{
 "cells": [
  {
   "cell_type": "code",
   "execution_count": 4,
   "id": "offensive-serial",
   "metadata": {},
   "outputs": [],
   "source": [
    "#import pakegies\n",
    "import cv2\n",
    "import mediapipe as mp \n",
    "import time\n",
    "\n"
   ]
  },
  {
   "cell_type": "code",
   "execution_count": 5,
   "id": "operating-vector",
   "metadata": {},
   "outputs": [],
   "source": [
    "\n",
    "class handDetector():\n",
    "    def __init__(self, mode=False, maxHands=2, detectionCon=0.5, trackCon=0.5):\n",
    "        self.mode=mode\n",
    "        self.maxHands=maxHands\n",
    "        self.detectionCon=detectionCon\n",
    "        self.trackCon=trackCon\n",
    "        \n",
    "        self.mp_hands = mp.solutions.hands\n",
    "        self.mp_drawing = mp.solutions.drawing_utils\n",
    "        self.hands=self.mp_hands.Hands(self.mode,self.maxHands,self.detectionCon,self.trackCon)\n",
    "    \n",
    "    def findHand(self,img,draw=True):\n",
    "        imgRGB=cv2.cvtColor(img,cv2.COLOR_BGR2RGB)\n",
    "        self.results=self.hands.process(imgRGB)\n",
    "        if self.results.multi_hand_landmarks:\n",
    "            for handmark in self.results.multi_hand_landmarks :\n",
    "                if draw:\n",
    "                    self.mp_drawing.draw_landmarks(img, handmark,self.mp_hands.HAND_CONNECTIONS)\n",
    "        return img\n",
    "    \n",
    "    def findPosition(self, img, handNo=0, draw=True):\n",
    "        lmList = []\n",
    "        if self.results.multi_hand_landmarks:\n",
    "            myHand = self.results.multi_hand_landmarks[handNo]\n",
    "            for id, lm in enumerate(myHand.landmark):\n",
    "                # print(id, lm)\n",
    "                h, w, c = img.shape\n",
    "                cx, cy = int(lm.x * w), int(lm.y * h)\n",
    "                # print(id, cx, cy)\n",
    "                lmList.append([id, cx, cy])\n",
    "                if draw:\n",
    "                    cv2.circle(img, (cx, cy), 10, (255, 0, 255), cv2.FILLED)\n",
    "        return lmList"
   ]
  },
  {
   "cell_type": "code",
   "execution_count": 6,
   "id": "handled-certificate",
   "metadata": {},
   "outputs": [
    {
     "name": "stdout",
     "output_type": "stream",
     "text": [
      "[4, 138, 376]\n",
      "[4, 147, 385]\n",
      "[4, 147, 386]\n",
      "[4, 153, 404]\n",
      "[4, 166, 427]\n",
      "[4, 167, 423]\n",
      "[4, 173, 441]\n",
      "[4, 181, 434]\n",
      "[4, 186, 437]\n",
      "[4, 184, 440]\n",
      "[4, 185, 443]\n",
      "[4, 187, 440]\n",
      "[4, 186, 438]\n",
      "[4, 186, 435]\n",
      "[4, 185, 424]\n",
      "[4, 181, 431]\n",
      "[4, 184, 431]\n",
      "[4, 188, 434]\n"
     ]
    }
   ],
   "source": [
    "def main():\n",
    "    cap=cv2.VideoCapture(0)    \n",
    "    pTime = 0\n",
    "    cTime = 0 \n",
    "    detector=handDetector()\n",
    "    while True:\n",
    "            sucess , img= cap.read()\n",
    "            img=detector.findHand(img)\n",
    "            lmList = detector.findPosition(img)\n",
    "            if len(lmList) != 0:\n",
    "                print(lmList[4])\n",
    "            cTime = time.time()\n",
    "            fps = 1 / (cTime - pTime)\n",
    "            pTime = cTime\n",
    "            cv2.putText(img, str(int(fps)), (10, 70), cv2.FONT_HERSHEY_PLAIN, 3,\n",
    "                    (255, 0, 255), 3)\n",
    "            cv2.imshow(\"image\" , img)\n",
    "\n",
    "            if cv2.waitKey(1) == 13: #13 is the Enter Key\n",
    "                break\n",
    "                \n",
    "    cv2.destroyAllWindows()\n",
    "    cap.release()\n",
    "\n",
    "\n",
    "\n",
    "\n",
    "if __name__ == \"__main__\":\n",
    "    main()"
   ]
  },
  {
   "cell_type": "code",
   "execution_count": null,
   "id": "prescription-iceland",
   "metadata": {},
   "outputs": [],
   "source": []
  }
 ],
 "metadata": {
  "kernelspec": {
   "display_name": "Python 3",
   "language": "python",
   "name": "python3"
  },
  "language_info": {
   "codemirror_mode": {
    "name": "ipython",
    "version": 3
   },
   "file_extension": ".py",
   "mimetype": "text/x-python",
   "name": "python",
   "nbconvert_exporter": "python",
   "pygments_lexer": "ipython3",
   "version": "3.6.12"
  }
 },
 "nbformat": 4,
 "nbformat_minor": 5
}
